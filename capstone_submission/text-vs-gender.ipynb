{
 "cells": [
  {
   "cell_type": "code",
   "execution_count": 1,
   "metadata": {},
   "outputs": [],
   "source": [
    "# attempt to predict gender by essay topics"
   ]
  },
  {
   "cell_type": "code",
   "execution_count": 2,
   "metadata": {},
   "outputs": [
    {
     "name": "stdout",
     "output_type": "stream",
     "text": [
      "35829\n",
      "24117\n"
     ]
    }
   ],
   "source": [
    "import pandas as pd\n",
    "import numpy as np\n",
    "from matplotlib import pyplot as plt\n",
    "from sklearn.model_selection import train_test_split\n",
    "\n",
    "\n",
    "# set max colwidth to -1 because leaving the defaults messes \n",
    "# with the charcount when joining the essays\n",
    "pd.set_option('display.max_colwidth', -1)\n",
    "\n",
    "df = pd.read_csv('profiles.csv')\n",
    "\n",
    "# get the essays by gender\n",
    "def get_essays(gender):\n",
    "    return df[df.sex == gender][['essay0', 'essay1', 'essay2', 'essay3',\n",
    "        'essay4', 'essay5', 'essay6', 'essay7', 'essay8', 'essay9']]\n",
    "\n",
    "male_essays = get_essays('m')\n",
    "female_essays = get_essays('f')\n",
    "print(len(male_essays))\n",
    "print(len(female_essays))"
   ]
  },
  {
   "cell_type": "code",
   "execution_count": 3,
   "metadata": {
    "scrolled": true
   },
   "outputs": [
    {
     "data": {
      "image/png": "[encoded data removed]",
      "text/plain": [
       "<Figure size 432x288 with 1 Axes>"
      ]
     },
     "metadata": {},
     "output_type": "display_data"
    },
    {
     "name": "stdout",
     "output_type": "stream",
     "text": [
      "[32648, 31434, 30069, 28467, 29403, 28669, 27652, 28236, 24541, 28614]\n"
     ]
    }
   ],
   "source": [
    "#plot a stacked bar chart of numbers of answers to each question by gender\n",
    "def get_total_answers(column):\n",
    "    return len(column.dropna())\n",
    "\n",
    "male_answers = male_essays.apply(get_total_answers, axis=0)\n",
    "female_answers = female_essays.apply(get_total_answers, axis=0)\n",
    "\n",
    "titles = ['e0', 'e1', 'e2', 'e3', 'e4', 'e5', 'e6', 'e7', 'e8', 'e9']\n",
    "male_bar = plt.bar(titles, male_answers.tolist())\n",
    "female_bar = plt.bar(titles, female_answers.tolist())\n",
    "\n",
    "plt.title('num responses per question by gender')\n",
    "plt.legend((male_bar[0], female_bar[0]), ('male', 'female'))\n",
    "plt.show()\n",
    "\n",
    "print(male_answers.tolist())"
   ]
  },
  {
   "cell_type": "markdown",
   "metadata": {},
   "source": [
    "# NB Classification"
   ]
  },
  {
   "cell_type": "code",
   "execution_count": 4,
   "metadata": {},
   "outputs": [
    {
     "name": "stdout",
     "output_type": "stream",
     "text": [
      "male len:  28467\n",
      "female len:  20003\n"
     ]
    }
   ],
   "source": [
    "# drop any rows that are NaN\n",
    "male_essay3 = male_essays.essay3.dropna()\n",
    "female_essay3 = female_essays.essay3.dropna()\n",
    "print('male len: ', len(male_essay3))\n",
    "print('female len: ', len(female_essay3))"
   ]
  },
  {
   "cell_type": "code",
   "execution_count": 5,
   "metadata": {},
   "outputs": [],
   "source": [
    "# replace \\n and <br /> with space, make responses a list\n",
    "male_essay3_text = male_essay3.apply(lambda x: x.replace('\\n', ' ').replace('<br />', ' ')).tolist()\n",
    "female_essay3_text = female_essay3.apply(lambda x: x.replace('\\n', ' ').replace('<br />', ' ')).tolist()\n",
    "\n",
    "all_essay3 = male_essay3_text + female_essay3_text\n",
    "labels = [0] * len(male_essay3_text) + [1] * len(female_essay3_text)"
   ]
  },
  {
   "cell_type": "code",
   "execution_count": 6,
   "metadata": {},
   "outputs": [
    {
     "name": "stdout",
     "output_type": "stream",
     "text": [
      "38776\n",
      "9694\n"
     ]
    }
   ],
   "source": [
    "train_data, test_data, train_labels, test_labels = train_test_split(all_essay3, labels, test_size = 0.2, random_state = 1)\n",
    "print(len(train_data))\n",
    "print(len(test_data))"
   ]
  },
  {
   "cell_type": "code",
   "execution_count": 7,
   "metadata": {},
   "outputs": [],
   "source": [
    "from sklearn.feature_extraction.text import CountVectorizer\n",
    "\n",
    "counter = CountVectorizer()\n",
    "counter.fit(train_data)\n",
    "train_counts = counter.transform(train_data)\n",
    "test_counts = counter.transform(test_data)"
   ]
  },
  {
   "cell_type": "code",
   "execution_count": 8,
   "metadata": {},
   "outputs": [],
   "source": [
    "from sklearn.naive_bayes import MultinomialNB\n",
    "\n",
    "classifier = MultinomialNB()\n",
    "classifier.fit(train_counts, train_labels)\n",
    "predictions = classifier.predict(test_counts)"
   ]
  },
  {
   "cell_type": "code",
   "execution_count": 9,
   "metadata": {},
   "outputs": [
    {
     "name": "stdout",
     "output_type": "stream",
     "text": [
      "confusion matrix: \n",
      "[[4017 1702]\n",
      " [1641 2334]]\n",
      "accuracy: 0.655148\n",
      "precision: 0.578295\n",
      "recall: 0.587170\n"
     ]
    }
   ],
   "source": [
    "from sklearn.metrics import confusion_matrix\n",
    "from sklearn.metrics import accuracy_score\n",
    "from sklearn.metrics import precision_score\n",
    "from sklearn.metrics import recall_score\n",
    "\n",
    "# save confusion matrix and slice into four pieces\n",
    "confusion = confusion_matrix(test_labels, predictions)\n",
    "print(\"confusion matrix: \")\n",
    "print(confusion)\n",
    "\n",
    "# accuracy\n",
    "print('accuracy: %f' % (accuracy_score(test_labels, predictions)))\n",
    "\n",
    "# precision\n",
    "print('precision: %f' % (precision_score(test_labels, predictions)))\n",
    "\n",
    "# recall\n",
    "print('recall: %f' % (recall_score(test_labels, predictions)))"
   ]
  },
  {
   "cell_type": "code",
   "execution_count": null,
   "metadata": {},
   "outputs": [],
   "source": [
    "# 👎🏿 Multinomial Naive Bayes is a loser."
   ]
  },
  {
   "cell_type": "markdown",
   "metadata": {},
   "source": [
    "# KNN Classification"
   ]
  },
  {
   "cell_type": "code",
   "execution_count": 10,
   "metadata": {},
   "outputs": [],
   "source": [
    "import collections\n",
    "\n",
    "def get_word_frequency(essay_list):\n",
    "    essay_as_list = []\n",
    "    for essay in essay_list:\n",
    "        essay_as_list.append(essay.replace('\\n', ' ').replace('<br />', ' ').split())\n",
    "\n",
    "    essay_words = [word for essay in essay_as_list for word in essay]\n",
    "    essay_words_freq = collections.Counter(essay_words)\n",
    "\n",
    "    essay_word_df = pd.DataFrame.from_dict(essay_words_freq, orient='index').reset_index()\n",
    "    essay_word_df = essay_word_df.rename(columns={'index':'word', 0:'count'})\n",
    "    essay_word_df.sort_values('count', ascending=False, inplace=True)\n",
    "    return essay_word_df\n",
    "\n",
    "male_word_freq = get_word_frequency(male_essay3_text)\n",
    "female_word_freq = get_word_frequency(female_essay3_text)\n",
    "\n",
    "# get top 100 words for both sets of essays\n",
    "top_male_words = male_word_freq[0:100]['word'].tolist()\n",
    "top_female_words = female_word_freq[0:100]['word'].tolist()\n",
    "\n",
    "# pluck out the 100 unique ones between the lists\n",
    "top_words = []\n",
    "[top_words.append(x) for x in (top_male_words + top_female_words) if x not in top_words]\n",
    "top_words = top_words[0:100]"
   ]
  },
  {
   "cell_type": "code",
   "execution_count": 11,
   "metadata": {},
   "outputs": [],
   "source": [
    "# drop NaN rows and replace any \\n and <br /> with a space\n",
    "essay3_word_counts = df[['essay3', 'sex']].dropna()\n",
    "essay3_word_counts.essay3 = essay3_word_counts.essay3.apply(lambda x: x.replace('\\n', ' '))\n",
    "essay3_word_counts.essay3 = essay3_word_counts.essay3.apply(lambda x: x.replace('<br />', ' '))\n",
    "\n",
    "# create a new column in the essay3_word_counts dataframe\n",
    "for word in top_words:\n",
    "    essay3_word_counts[word+'_count'] = essay3_word_counts.essay3.apply(lambda x: x.split().count(word))\n"
   ]
  },
  {
   "cell_type": "code",
   "execution_count": 12,
   "metadata": {},
   "outputs": [],
   "source": [
    "#create a list of labels\n",
    "essay3_labels = essay3_word_counts.sex.apply(lambda x: 0 if x == 'm' else 1).tolist()\n",
    "\n",
    "# create the wordcount dataset\n",
    "essay3_top_words_dataset = essay3_word_counts.drop(['essay3', 'sex'], axis=1)\n",
    "essay3_top_words_dataset = essay3_top_words_dataset.values.tolist()\n"
   ]
  },
  {
   "cell_type": "code",
   "execution_count": 13,
   "metadata": {},
   "outputs": [],
   "source": [
    "from sklearn.neighbors import KNeighborsClassifier\n",
    "\n",
    "training_data, validation_data, training_labels, validation_labels = train_test_split(essay3_top_words_dataset, essay3_labels, test_size = 0.2, random_state = 99)\n",
    "k_list = range(1, 101)\n",
    "accuracies = []\n",
    "for k in range(1, 101):\n",
    "    classifier = KNeighborsClassifier(n_neighbors=k)\n",
    "    classifier.fit(training_data, training_labels)\n",
    "    score = classifier.score(validation_data, validation_labels)\n",
    "    print('k: %d, score: %f' % (k, score))\n",
    "    accuracies.append(score)\n",
    "  \n",
    "plt.plot(k_list, accuracies)\n",
    "plt.xlabel('k')\n",
    "plt.ylabel('validation accuracy')\n",
    "plt.title('essay3 top word classifier accuracy')\n",
    "plt.show()"
   ]
  },
  {
   "cell_type": "code",
   "execution_count": 240,
   "metadata": {},
   "outputs": [
    {
     "name": "stdout",
     "output_type": "stream",
     "text": [
      "k: 100, score: 0.603157\n",
      "k: 200, score: 0.605529\n",
      "k: 300, score: 0.610171\n",
      "k: 400, score: 0.608933\n",
      "k: 500, score: 0.607902\n",
      "k: 600, score: 0.601300\n",
      "k: 700, score: 0.599546\n",
      "k: 800, score: 0.598411\n",
      "k: 900, score: 0.599959\n",
      "k: 1000, score: 0.599959\n"
     ]
    },
    {
     "data": {
      "image/png": "[encoded data removed]",
      "text/plain": [
       "<Figure size 432x288 with 1 Axes>"
      ]
     },
     "metadata": {},
     "output_type": "display_data"
    }
   ],
   "source": [
    "k_list = [100, 200, 300, 400, 500, 600, 700, 800, 900, 1000]\n",
    "accuracies = []\n",
    "for k in k_list:\n",
    "    classifier = KNeighborsClassifier(n_neighbors=k)\n",
    "    classifier.fit(training_data, training_labels)\n",
    "    score = classifier.score(validation_data, validation_labels)\n",
    "    print('k: %d, score: %f' % (k, score))\n",
    "    accuracies.append(score)\n",
    "\n",
    "plt.plot(k_list, accuracies)\n",
    "plt.xlabel('k')\n",
    "plt.ylabel('validation accuracy')\n",
    "plt.title('essay3 top word classifier accuracy')\n",
    "plt.show()"
   ]
  },
  {
   "cell_type": "code",
   "execution_count": 241,
   "metadata": {},
   "outputs": [
    {
     "name": "stdout",
     "output_type": "stream",
     "text": [
      "k: 1000, score: 0.599959\n",
      "k: 2000, score: 0.589849\n",
      "k: 3000, score: 0.589230\n",
      "k: 4000, score: 0.589230\n",
      "k: 5000, score: 0.588508\n",
      "k: 6000, score: 0.584795\n",
      "k: 7000, score: 0.583969\n",
      "k: 8000, score: 0.582525\n",
      "k: 9000, score: 0.582422\n",
      "k: 10000, score: 0.582216\n"
     ]
    },
    {
     "data": {
      "image/png": "[encoded data removed]",
      "text/plain": [
       "<Figure size 432x288 with 1 Axes>"
      ]
     },
     "metadata": {},
     "output_type": "display_data"
    }
   ],
   "source": [
    "k_list = [1000, 2000, 3000, 4000, 5000, 6000, 7000, 8000, 9000, 10000]\n",
    "accuracies = []\n",
    "for k in k_list:\n",
    "    classifier = KNeighborsClassifier(n_neighbors=k)\n",
    "    classifier.fit(training_data, training_labels)\n",
    "    score = classifier.score(validation_data, validation_labels)\n",
    "    print('k: %d, score: %f' % (k, score))\n",
    "    accuracies.append(score)\n",
    "\n",
    "plt.plot(k_list, accuracies)\n",
    "plt.xlabel('k')\n",
    "plt.ylabel('validation accuracy')\n",
    "plt.title('essay3 top word classifier accuracy')\n",
    "plt.show()"
   ]
  },
  {
   "cell_type": "code",
   "execution_count": 14,
   "metadata": {},
   "outputs": [
    {
     "data": {
      "text/plain": [
       "KNeighborsClassifier(algorithm='auto', leaf_size=30, metric='minkowski',\n",
       "           metric_params=None, n_jobs=1, n_neighbors=300, p=2,\n",
       "           weights='uniform')"
      ]
     },
     "execution_count": 14,
     "metadata": {},
     "output_type": "execute_result"
    }
   ],
   "source": [
    "# create a classifier with the K that yeilded the highest accuracy (300)\n",
    "classifier = KNeighborsClassifier(n_neighbors=300)\n",
    "classifier.fit(training_data, training_labels)\n"
   ]
  },
  {
   "cell_type": "code",
   "execution_count": 15,
   "metadata": {},
   "outputs": [
    {
     "data": {
      "text/plain": [
       "0.6101712399422323"
      ]
     },
     "execution_count": 15,
     "metadata": {},
     "output_type": "execute_result"
    }
   ],
   "source": [
    "# get accuracy\n",
    "classifier.score(validation_data, validation_labels)"
   ]
  },
  {
   "cell_type": "code",
   "execution_count": 16,
   "metadata": {},
   "outputs": [],
   "source": [
    "# print confusion matrix\n",
    "predictions = classifier.predict(validation_data)"
   ]
  },
  {
   "cell_type": "code",
   "execution_count": 17,
   "metadata": {},
   "outputs": [
    {
     "data": {
      "text/plain": [
       "array([[5127,  516],\n",
       "       [3263,  788]])"
      ]
     },
     "execution_count": 17,
     "metadata": {},
     "output_type": "execute_result"
    }
   ],
   "source": [
    "confusion_matrix(validation_labels, predictions)"
   ]
  },
  {
   "cell_type": "code",
   "execution_count": 18,
   "metadata": {},
   "outputs": [
    {
     "name": "stdout",
     "output_type": "stream",
     "text": [
      "             precision    recall  f1-score   support\n",
      "\n",
      "          0       0.61      0.91      0.73      5643\n",
      "          1       0.60      0.19      0.29      4051\n",
      "\n",
      "avg / total       0.61      0.61      0.55      9694\n",
      "\n"
     ]
    }
   ],
   "source": [
    "from sklearn.metrics import classification_report\n",
    "print(classification_report(validation_labels, predictions))"
   ]
  },
  {
   "cell_type": "code",
   "execution_count": null,
   "metadata": {},
   "outputs": [],
   "source": [
    "# 👎🏿 KNN is another flop."
   ]
  },
  {
   "cell_type": "markdown",
   "metadata": {},
   "source": [
    "# KNN Regressor"
   ]
  },
  {
   "cell_type": "code",
   "execution_count": 20,
   "metadata": {},
   "outputs": [
    {
     "data": {
      "text/plain": [
       "KNeighborsRegressor(algorithm='auto', leaf_size=30, metric='minkowski',\n",
       "          metric_params=None, n_jobs=1, n_neighbors=300, p=2,\n",
       "          weights='distance')"
      ]
     },
     "execution_count": 20,
     "metadata": {},
     "output_type": "execute_result"
    }
   ],
   "source": [
    "from sklearn.neighbors import KNeighborsRegressor\n",
    "\n",
    "regressor = KNeighborsRegressor(n_neighbors = 300, weights = 'distance')\n",
    "regressor.fit(training_data, training_labels)\n"
   ]
  },
  {
   "cell_type": "code",
   "execution_count": 23,
   "metadata": {},
   "outputs": [
    {
     "name": "stdout",
     "output_type": "stream",
     "text": [
      "-0.019285010143822667\n"
     ]
    }
   ],
   "source": [
    "# get accuracy\n",
    "print(regressor.score(validation_data, validation_labels))\n"
   ]
  },
  {
   "cell_type": "code",
   "execution_count": null,
   "metadata": {},
   "outputs": [],
   "source": [
    "# SVM "
   ]
  },
  {
   "cell_type": "code",
   "execution_count": null,
   "metadata": {},
   "outputs": [],
   "source": [
    "# use KNN data with a support vector machine\n",
    "from sklearn.svm import SVC\n",
    "\n",
    "svm_classifier = SVC(kernel = 'linear')\n",
    "svm_classifier.fit(training_data, train_labels)\n",
    "\n",
    "# get accuracy\n",
    "print(classifier.score(validation_data, validation_labels))\n",
    "\n",
    "predictions = classifier.predict(validation_data)\n",
    "print(confusion_matrix(validation_labels, predictions))\n",
    "print(classification_report(validation_labels, predictions))"
   ]
  }
 ],
 "metadata": {
  "kernelspec": {
   "display_name": "Python 3",
   "language": "python",
   "name": "python3"
  },
  "language_info": {
   "codemirror_mode": {
    "name": "ipython",
    "version": 3
   },
   "file_extension": ".py",
   "mimetype": "text/x-python",
   "name": "python",
   "nbconvert_exporter": "python",
   "pygments_lexer": "ipython3",
   "version": "3.6.5"
  }
 },
 "nbformat": 4,
 "nbformat_minor": 2
}
